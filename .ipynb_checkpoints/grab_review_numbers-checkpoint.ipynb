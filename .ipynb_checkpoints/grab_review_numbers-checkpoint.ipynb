{
 "metadata": {
  "name": ""
 },
 "nbformat": 3,
 "nbformat_minor": 0,
 "worksheets": [
  {
   "cells": [
    {
     "cell_type": "code",
     "collapsed": false,
     "input": [
      "import urllib2\n",
      "import csv\n",
      "from bs4 import BeautifulSoup\n",
      "import datetime\n",
      "import time\n",
      "import re\n",
      "import json"
     ],
     "language": "python",
     "metadata": {},
     "outputs": [],
     "prompt_number": 1
    },
    {
     "cell_type": "code",
     "collapsed": false,
     "input": [
      "with open(r\"C:\\Users\\Schuster\\Google Drive\\Google_Play_Reviews\\gp_urls.txt\", 'rb') as json_f:\n",
      "    google_play_list = json.load(json_f)\n",
      "\n",
      "output_file = \"C:\\Users\\Schuster\\Google Drive\\Google_Play_Reviews\\Google Play Reviews Tracking.csv\""
     ],
     "language": "python",
     "metadata": {},
     "outputs": [],
     "prompt_number": 2
    },
    {
     "cell_type": "code",
     "collapsed": false,
     "input": [
      "now = datetime.datetime.now()\n",
      "date = \"%s/%s/%s\" %(now.month, now.day, now.year)\n",
      "time_est = \"%s:%s\" %(now.hour, now.minute)\n",
      "\n",
      "rating_span_class = \"rating-bar-container \" \n",
      "star_nums = [\"five\", \"four\", \"three\", \"two\", \"one\"]\n",
      "\n",
      "for obj in google_play_list:\n",
      "    name = obj[\"name\"]\n",
      "    url = obj[\"url\"]\n",
      "    category = obj[\"category\"]\n",
      "    company = obj[\"company\"]\n",
      "    \n",
      "    response = urllib2.urlopen(url)\n",
      "    html = response.read()\n",
      "    response.close()\n",
      "    \n",
      "    soup = BeautifulSoup(html)\n",
      "    total_reviews = soup.find(\"span\", class_=\"reviews-num\").contents[0]\n",
      "    total_reviews = re.sub(',', '', total_reviews)\n",
      "    \n",
      "    stars = {}\n",
      "    \n",
      "    for rating in star_nums:\n",
      "        next_rating = rating_span_class + rating\n",
      "        n_stars = soup.find(\"div\", class_= rating_span_class + rating)\n",
      "        n_star_reviews = n_stars.find(\"span\", class_=\"bar-number\").contents[0]\n",
      "        stars[rating] = n_star_reviews\n",
      "        \n",
      "    with open(output_file, 'ab') as csv_f:\n",
      "        f_writer = csv.writer(csv_f, delimiter=',')\n",
      "        f_writer.writerow([date, time_est, name, company, category, url, total_reviews, stars['five'], stars['four'], stars['three'], stars['two'], stars['one']])\n",
      "   \n",
      "    time.sleep(.5)\n"
     ],
     "language": "python",
     "metadata": {},
     "outputs": [],
     "prompt_number": 18
    }
   ],
   "metadata": {}
  }
 ]
}