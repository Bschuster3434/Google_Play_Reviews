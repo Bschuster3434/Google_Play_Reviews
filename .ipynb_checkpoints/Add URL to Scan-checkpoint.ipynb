{
 "metadata": {
  "name": ""
 },
 "nbformat": 3,
 "nbformat_minor": 0,
 "worksheets": [
  {
   "cells": [
    {
     "cell_type": "code",
     "collapsed": false,
     "input": [
      "import json\n",
      "import urllib2\n",
      "from bs4 import BeautifulSoup"
     ],
     "language": "python",
     "metadata": {},
     "outputs": [],
     "prompt_number": 1
    },
    {
     "cell_type": "code",
     "collapsed": false,
     "input": [
      "##Grabs the following data elements from url:\n",
      "##Name, App Category, Company"
     ],
     "language": "python",
     "metadata": {},
     "outputs": [],
     "prompt_number": 2
    },
    {
     "cell_type": "code",
     "collapsed": false,
     "input": [
      "def add_url(url_string):\n",
      "    response = urllib2.urlopen(url_string)\n",
      "    html = response.read()\n",
      "    response.close()\n",
      "    \n",
      "    soup = BeautifulSoup(html)\n",
      "    \n",
      "    name = soup.find(\"div\", class_=\"document-title\").contents[1].contents[0]\n",
      "    company = soup.find(\"a\", class_=\"document-subtitle primary\").contents[1].contents[0]\n",
      "    category = soup.find(\"span\", itemprop=\"genre\").contents[0]\n",
      "    \n",
      "    url_dict = {}\n",
      "    url_dict[\"name\"] = name\n",
      "    url_dict[\"company\"] = company\n",
      "    url_dict[\"category\"] = category\n",
      "    url_dict[\"url\"] = url_string\n",
      "    \n",
      "    with open(\"gp_urls.txt\", \"rb\") as json_f:\n",
      "        url_list = json.load(json_f)\n",
      "        \n",
      "    url_list.append(url_dict)\n",
      "        \n",
      "    with open(\"gp_urls.txt\", \"wb\") as json_f:\n",
      "        json.dump( url_list, json_f)  "
     ],
     "language": "python",
     "metadata": {},
     "outputs": [],
     "prompt_number": 3
    },
    {
     "cell_type": "code",
     "collapsed": false,
     "input": [
      "add_url(\"https://play.google.com/store/apps/details?id=com.rovio.angrybirds&hl=en\")"
     ],
     "language": "python",
     "metadata": {},
     "outputs": [],
     "prompt_number": 23
    },
    {
     "cell_type": "code",
     "collapsed": false,
     "input": [],
     "language": "python",
     "metadata": {},
     "outputs": []
    }
   ],
   "metadata": {}
  }
 ]
}